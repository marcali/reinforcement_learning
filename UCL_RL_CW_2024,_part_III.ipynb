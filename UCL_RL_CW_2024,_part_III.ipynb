{
  "cells": [
    {
      "cell_type": "markdown",
      "metadata": {
        "id": "pYs6LMEbNqoQ"
      },
      "source": [
        "# RL coursework, part III (25 pts total)\n",
        "---\n",
        "\n",
        "**Name:** Your Name\n",
        "\n",
        "**SN:** Your Student Number\n",
        "\n",
        "---\n",
        "\n",
        "**Due date:** *April 11th, 2024*\n",
        "\n",
        "---\n",
        "\n",
        "Standard UCL policy (including grade deductions) automatically applies for any late submissions.\n",
        "\n",
        "## How to submit\n",
        "\n",
        "When you have completed the exercises and everything has finished running, click on 'File' in the menu-bar and then 'Download .ipynb'. This file must be submitted to Moodle named as **`<studentnumber>_RL_part3.ipynb`** before the deadline above, where `<studentnumber>` is your student number."
      ]
    },
    {
      "cell_type": "markdown",
      "metadata": {
        "id": "rNuohp44N00i"
      },
      "source": [
        "# The Assignment\n",
        "\n",
        "### Objectives\n",
        "\n",
        "You will be guided through the implementation of a full deep reinforcement learning agent."
      ]
    },
    {
      "cell_type": "markdown",
      "metadata": {
        "id": "nVBcO5mAV9Ow"
      },
      "source": [
        "## Setup\n",
        "\n",
        "Run all the cells in this section, but do not modify them."
      ]
    },
    {
      "cell_type": "markdown",
      "metadata": {
        "id": "Z1p0fpbxQLyn"
      },
      "source": [
        "## Imports"
      ]
    },
    {
      "cell_type": "code",
      "execution_count": 1,
      "metadata": {
        "id": "Ps5OnkPmDbMX"
      },
      "outputs": [],
      "source": [
        "import matplotlib.pyplot as plt\n",
        "import numpy as np\n",
        "\n",
        "np.set_printoptions(precision=3, suppress=1)"
      ]
    },
    {
      "cell_type": "markdown",
      "metadata": {
        "id": "3lpweIqAWBX3"
      },
      "source": [
        "## Helpers"
      ]
    },
    {
      "cell_type": "markdown",
      "metadata": {
        "id": "iIRC73HLq6VH"
      },
      "source": [
        "# A) Actor-critics\n",
        "\n",
        "You are going to implement an Actor-critic agent that updates a policy parametrised as a deep neural network.\n",
        "\n",
        "The agent learns online from a single stream of experience, updating the parametes of its policy after each transition in the environment."
      ]
    },
    {
      "cell_type": "markdown",
      "metadata": {
        "id": "KV03Q3MpveUM"
      },
      "source": [
        "### Install packages"
      ]
    },
    {
      "cell_type": "code",
      "execution_count": 2,
      "metadata": {
        "id": "wc-kqp3tveUT"
      },
      "outputs": [
        {
          "name": "stdout",
          "output_type": "stream",
          "text": [
            "Collecting jaxlib==0.4.23\n",
            "  Obtaining dependency information for jaxlib==0.4.23 from https://files.pythonhosted.org/packages/84/d5/404277971fb9d3be7f303b7301faac98b3ff27626c10b88c5d7727c3ef04/jaxlib-0.4.23-cp39-cp39-win_amd64.whl.metadata\n",
            "  Using cached jaxlib-0.4.23-cp39-cp39-win_amd64.whl.metadata (2.1 kB)\n",
            "Requirement already satisfied: scipy>=1.9 in c:\\users\\alina\\miniconda3\\envs\\mv00\\lib\\site-packages (from jaxlib==0.4.23) (1.11.3)\n",
            "Requirement already satisfied: numpy>=1.22 in c:\\users\\alina\\miniconda3\\envs\\mv00\\lib\\site-packages (from jaxlib==0.4.23) (1.26.0)\n",
            "Requirement already satisfied: ml-dtypes>=0.2.0 in c:\\users\\alina\\miniconda3\\envs\\mv00\\lib\\site-packages (from jaxlib==0.4.23) (0.4.0)\n",
            "Using cached jaxlib-0.4.23-cp39-cp39-win_amd64.whl (45.9 MB)\n",
            "Installing collected packages: jaxlib\n",
            "  Attempting uninstall: jaxlib\n",
            "    Found existing installation: jaxlib 0.4.26\n",
            "    Uninstalling jaxlib-0.4.26:\n",
            "      Successfully uninstalled jaxlib-0.4.26\n",
            "Successfully installed jaxlib-0.4.23\n"
          ]
        },
        {
          "name": "stderr",
          "output_type": "stream",
          "text": [
            "fatal: destination path 'bsuite' already exists and is not an empty directory.\n"
          ]
        },
        {
          "name": "stdout",
          "output_type": "stream",
          "text": [
            "Processing c:\\users\\alina\\repos\\ucl\\rl\\bsuite\n",
            "  Preparing metadata (setup.py): started\n",
            "  Preparing metadata (setup.py): finished with status 'done'\n",
            "Requirement already satisfied: absl-py in c:\\users\\alina\\miniconda3\\envs\\mv00\\lib\\site-packages (from bsuite==0.3.5) (2.1.0)\n",
            "Requirement already satisfied: dm_env in c:\\users\\alina\\miniconda3\\envs\\mv00\\lib\\site-packages (from bsuite==0.3.5) (1.6)\n",
            "Requirement already satisfied: immutabledict in c:\\users\\alina\\miniconda3\\envs\\mv00\\lib\\site-packages (from bsuite==0.3.5) (4.2.0)\n",
            "Requirement already satisfied: matplotlib in c:\\users\\alina\\miniconda3\\envs\\mv00\\lib\\site-packages (from bsuite==0.3.5) (3.7.2)\n",
            "Requirement already satisfied: numpy in c:\\users\\alina\\miniconda3\\envs\\mv00\\lib\\site-packages (from bsuite==0.3.5) (1.26.0)\n",
            "Requirement already satisfied: pandas in c:\\users\\alina\\miniconda3\\envs\\mv00\\lib\\site-packages (from bsuite==0.3.5) (2.1.1)\n",
            "Requirement already satisfied: plotnine in c:\\users\\alina\\miniconda3\\envs\\mv00\\lib\\site-packages (from bsuite==0.3.5) (0.13.4)\n",
            "Requirement already satisfied: scipy in c:\\users\\alina\\miniconda3\\envs\\mv00\\lib\\site-packages (from bsuite==0.3.5) (1.11.3)\n",
            "Requirement already satisfied: scikit-image in c:\\users\\alina\\miniconda3\\envs\\mv00\\lib\\site-packages (from bsuite==0.3.5) (0.22.0)\n",
            "Requirement already satisfied: six in c:\\users\\alina\\miniconda3\\envs\\mv00\\lib\\site-packages (from bsuite==0.3.5) (1.16.0)\n",
            "Requirement already satisfied: termcolor in c:\\users\\alina\\miniconda3\\envs\\mv00\\lib\\site-packages (from bsuite==0.3.5) (2.4.0)\n",
            "Requirement already satisfied: dm-tree in c:\\users\\alina\\miniconda3\\envs\\mv00\\lib\\site-packages (from dm_env->bsuite==0.3.5) (0.1.8)\n",
            "Requirement already satisfied: contourpy>=1.0.1 in c:\\users\\alina\\miniconda3\\envs\\mv00\\lib\\site-packages (from matplotlib->bsuite==0.3.5) (1.0.5)\n",
            "Requirement already satisfied: cycler>=0.10 in c:\\users\\alina\\miniconda3\\envs\\mv00\\lib\\site-packages (from matplotlib->bsuite==0.3.5) (0.11.0)\n",
            "Requirement already satisfied: fonttools>=4.22.0 in c:\\users\\alina\\miniconda3\\envs\\mv00\\lib\\site-packages (from matplotlib->bsuite==0.3.5) (4.25.0)\n",
            "Requirement already satisfied: kiwisolver>=1.0.1 in c:\\users\\alina\\miniconda3\\envs\\mv00\\lib\\site-packages (from matplotlib->bsuite==0.3.5) (1.4.4)\n",
            "Requirement already satisfied: packaging>=20.0 in c:\\users\\alina\\miniconda3\\envs\\mv00\\lib\\site-packages (from matplotlib->bsuite==0.3.5) (23.1)\n",
            "Requirement already satisfied: pillow>=6.2.0 in c:\\users\\alina\\miniconda3\\envs\\mv00\\lib\\site-packages (from matplotlib->bsuite==0.3.5) (10.0.1)\n",
            "Requirement already satisfied: pyparsing<3.1,>=2.3.1 in c:\\users\\alina\\miniconda3\\envs\\mv00\\lib\\site-packages (from matplotlib->bsuite==0.3.5) (3.0.9)\n",
            "Requirement already satisfied: python-dateutil>=2.7 in c:\\users\\alina\\miniconda3\\envs\\mv00\\lib\\site-packages (from matplotlib->bsuite==0.3.5) (2.8.2)\n",
            "Requirement already satisfied: importlib-resources>=3.2.0 in c:\\users\\alina\\miniconda3\\envs\\mv00\\lib\\site-packages (from matplotlib->bsuite==0.3.5) (5.2.0)\n",
            "Requirement already satisfied: pytz>=2020.1 in c:\\users\\alina\\miniconda3\\envs\\mv00\\lib\\site-packages (from pandas->bsuite==0.3.5) (2023.3.post1)\n",
            "Requirement already satisfied: tzdata>=2022.1 in c:\\users\\alina\\miniconda3\\envs\\mv00\\lib\\site-packages (from pandas->bsuite==0.3.5) (2023.3)\n",
            "Requirement already satisfied: mizani~=0.11.0 in c:\\users\\alina\\miniconda3\\envs\\mv00\\lib\\site-packages (from plotnine->bsuite==0.3.5) (0.11.1)\n",
            "Requirement already satisfied: statsmodels>=0.14.0 in c:\\users\\alina\\miniconda3\\envs\\mv00\\lib\\site-packages (from plotnine->bsuite==0.3.5) (0.14.1)\n",
            "Requirement already satisfied: networkx>=2.8 in c:\\users\\alina\\miniconda3\\envs\\mv00\\lib\\site-packages (from scikit-image->bsuite==0.3.5) (3.1)\n",
            "Requirement already satisfied: imageio>=2.27 in c:\\users\\alina\\miniconda3\\envs\\mv00\\lib\\site-packages (from scikit-image->bsuite==0.3.5) (2.34.0)\n",
            "Requirement already satisfied: tifffile>=2022.8.12 in c:\\users\\alina\\miniconda3\\envs\\mv00\\lib\\site-packages (from scikit-image->bsuite==0.3.5) (2024.2.12)\n",
            "Requirement already satisfied: lazy_loader>=0.3 in c:\\users\\alina\\miniconda3\\envs\\mv00\\lib\\site-packages (from scikit-image->bsuite==0.3.5) (0.4)\n",
            "Requirement already satisfied: zipp>=3.1.0 in c:\\users\\alina\\miniconda3\\envs\\mv00\\lib\\site-packages (from importlib-resources>=3.2.0->matplotlib->bsuite==0.3.5) (3.11.0)\n",
            "Requirement already satisfied: patsy>=0.5.4 in c:\\users\\alina\\miniconda3\\envs\\mv00\\lib\\site-packages (from statsmodels>=0.14.0->plotnine->bsuite==0.3.5) (0.5.6)\n",
            "Building wheels for collected packages: bsuite\n",
            "  Building wheel for bsuite (setup.py): started\n",
            "  Building wheel for bsuite (setup.py): finished with status 'done'\n",
            "  Created wheel for bsuite: filename=bsuite-0.3.5-py3-none-any.whl size=251159 sha256=6d86e14734acdc4364c80e21ffdfdb6e85712eff26953829829393a532765103\n",
            "  Stored in directory: C:\\Users\\alina\\AppData\\Local\\Temp\\pip-ephem-wheel-cache-c3bae88s\\wheels\\a7\\96\\64\\2a827647171c1bab498e721d88d226e4416caa9f18bf75282b\n",
            "Successfully built bsuite\n",
            "Installing collected packages: bsuite\n",
            "  Attempting uninstall: bsuite\n",
            "    Found existing installation: bsuite 0.3.5\n",
            "    Uninstalling bsuite-0.3.5:\n",
            "      Successfully uninstalled bsuite-0.3.5\n",
            "Successfully installed bsuite-0.3.5\n"
          ]
        }
      ],
      "source": [
        "!pip install -U jaxlib==0.4.23\n",
        "!git clone https://github.com/deepmind/bsuite.git\n",
        "!pip install bsuite/"
      ]
    },
    {
      "cell_type": "markdown",
      "metadata": {
        "id": "r_pTfi5dSFX5"
      },
      "source": [
        "### Imports"
      ]
    },
    {
      "cell_type": "code",
      "execution_count": 3,
      "metadata": {},
      "outputs": [
        {
          "name": "stdout",
          "output_type": "stream",
          "text": [
            "Requirement already satisfied: jax in c:\\users\\alina\\miniconda3\\envs\\mv00\\lib\\site-packages (0.4.26)\n",
            "Requirement already satisfied: jaxlib in c:\\users\\alina\\miniconda3\\envs\\mv00\\lib\\site-packages (0.4.23)\n",
            "Collecting jaxlib\n",
            "  Obtaining dependency information for jaxlib from https://files.pythonhosted.org/packages/88/89/1c6f95fdd98babbc9860ab5dad9a6758ce7e5665d3f18193d96da06053c2/jaxlib-0.4.26-cp39-cp39-win_amd64.whl.metadata\n",
            "  Using cached jaxlib-0.4.26-cp39-cp39-win_amd64.whl.metadata (1.8 kB)\n",
            "Requirement already satisfied: ml-dtypes>=0.2.0 in c:\\users\\alina\\miniconda3\\envs\\mv00\\lib\\site-packages (from jax) (0.4.0)\n",
            "Requirement already satisfied: numpy>=1.22 in c:\\users\\alina\\miniconda3\\envs\\mv00\\lib\\site-packages (from jax) (1.26.0)\n",
            "Requirement already satisfied: opt-einsum in c:\\users\\alina\\miniconda3\\envs\\mv00\\lib\\site-packages (from jax) (3.3.0)\n",
            "Requirement already satisfied: scipy>=1.9 in c:\\users\\alina\\miniconda3\\envs\\mv00\\lib\\site-packages (from jax) (1.11.3)\n",
            "Requirement already satisfied: importlib-metadata>=4.6 in c:\\users\\alina\\miniconda3\\envs\\mv00\\lib\\site-packages (from jax) (6.0.0)\n",
            "Requirement already satisfied: zipp>=0.5 in c:\\users\\alina\\miniconda3\\envs\\mv00\\lib\\site-packages (from importlib-metadata>=4.6->jax) (3.11.0)\n",
            "Using cached jaxlib-0.4.26-cp39-cp39-win_amd64.whl (46.4 MB)\n",
            "Installing collected packages: jaxlib\n",
            "  Attempting uninstall: jaxlib\n",
            "    Found existing installation: jaxlib 0.4.23\n",
            "    Uninstalling jaxlib-0.4.23:\n",
            "      Successfully uninstalled jaxlib-0.4.23\n",
            "Successfully installed jaxlib-0.4.26\n",
            "Note: you may need to restart the kernel to use updated packages.\n"
          ]
        }
      ],
      "source": [
        "pip install --upgrade jax jaxlib"
      ]
    },
    {
      "cell_type": "code",
      "execution_count": 4,
      "metadata": {
        "id": "huyKrYpvSHSu"
      },
      "outputs": [],
      "source": [
        "from bsuite.environments import catch\n",
        "\n",
        "import jax\n",
        "import jax.numpy as jnp"
      ]
    },
    {
      "cell_type": "markdown",
      "metadata": {
        "id": "M6kEki4XHbPy"
      },
      "source": [
        "### Plotting"
      ]
    },
    {
      "cell_type": "code",
      "execution_count": 5,
      "metadata": {
        "id": "EYdWwRrbHbcl"
      },
      "outputs": [],
      "source": [
        "def plot_learning_curve(list_of_episode_returns):\n",
        "  \"\"\"Plot the learning curve.\"\"\"\n",
        "  plt.figure(figsize=(7, 5))\n",
        "\n",
        "  def moving_average(x, w):\n",
        "    return np.convolve(x, np.ones(w), 'valid') / w\n",
        "\n",
        "  smoothed_returns = moving_average(list_of_episode_returns, 30)\n",
        "  plt.plot(smoothed_returns)\n",
        "\n",
        "  plt.xlabel('Average episode returns')\n",
        "  plt.xlabel('Number of episodes')\n",
        "\n",
        "  ax = plt.gca()\n",
        "  ax.spines['left'].set_visible(True)\n",
        "  ax.spines['bottom'].set_visible(True)\n",
        "  ax.spines['right'].set_visible(False)\n",
        "  ax.spines['top'].set_visible(False)\n",
        "  ax.xaxis.set_ticks_position('bottom')\n",
        "  ax.yaxis.set_ticks_position('left')"
      ]
    },
    {
      "cell_type": "markdown",
      "metadata": {
        "id": "Xtlrr5d2p7cS"
      },
      "source": [
        "### Neural networks\n",
        "\n",
        "You will use JAX to define a network parametrising:\n",
        "\n",
        "* The values of each state $v(s)$.\n",
        "* The action preferences in each state $\\{p_i(s)\\}_{i\\in\\{1, ..., |A|\\}}$ (you can think of and implement the preferences $\\mathbf{p}(s)$ as a vector output with $|A|$ elements).\n",
        "\n",
        "There are many neural network libraries available that can be used to create networks in jax.  But here we will keep things relatively simple and just define our own network.\n",
        "\n",
        "Specifically, we will define a `network` function returns a **scalar** value `v` and a **vector** of preferences `p`, which will define the policy of the agent.  This function will take as its inputs a dictionary `params` of parameters that we will update, which will contain all the parameters of the network.\n",
        "\n",
        "A lot of the boilerplate code has been written for you.  You will have to implement some functions as indicated in the questions below."
      ]
    },
    {
      "cell_type": "markdown",
      "metadata": {
        "id": "Gj1nsUYuOoe1"
      },
      "source": [
        "### Q1 [4 marks]\n",
        "\n",
        "Create the parameters and define the forward pass of the neural network. The `network` function must look as follows when we call it:\n",
        "`v, p = network(params, observation)`\n",
        "\n",
        "The network should be implemented as follows:\n",
        "* The inputs are a dictionary of parameters `params`, and a tensor (a `jnp.array`) called `observation`.\n",
        "* We reshape the observation into a flat vector `flat_observation`.\n",
        "* We compute a hidden representation\n",
        "`h = relu(flat_observation.dot(w) + b)`, where the weights and biases are given in the input dictionary as `w = params['w']` and `v = params['b']` (and analogously for all other parameters), and where `relu(x)` is a 'rectifier linear unit', which computes $\\max(x, 0)$ elementwise (you can use `jax.nn.relu(x)` to implement this, if you want).\n",
        "* We compute a vector of action preferences as a linear function of `h`, such that `p = h.dot(w_p) + b_p`.\n",
        "* Similarly, we compute a scalar state value `v` as a linear function of `h`.\n",
        "* Finally, we return the scalar value and vector preferences as a tuple.\n",
        "\n",
        "Further, make sure that:\n",
        "* The hidden representation should be a vector of 50 elements.\n",
        "* The action preferences should be a vector of 3 elements (one per each available action).\n",
        "* The value should be a scalar (not a vector with one element).\n",
        "* All parameters should be initialised randomly as follows:\n",
        "```\n",
        "rng_key, param_key = jax.random.split(rng_key)\n",
        "parameter = jax.random.truncated_normal(param_key, -1, 1, shape)\n",
        "```\n",
        "where `shape` is the relevant shape for this `parameter` (e.g., `parameter` is `w` or `b`, etc.).  The first line is important: it 'splits' the random key into a temporary random key `param_key` that should **only** be used for this parameter, and a new `rng_key` that can be split again later for the next parameters, etc.\n"
      ]
    },
    {
      "cell_type": "code",
      "execution_count": 6,
      "metadata": {},
      "outputs": [
        {
          "name": "stdout",
          "output_type": "stream",
          "text": [
            "Requirement already satisfied: dm-haiku in c:\\users\\alina\\miniconda3\\envs\\mv00\\lib\\site-packages (0.0.12)\n",
            "Requirement already satisfied: absl-py>=0.7.1 in c:\\users\\alina\\miniconda3\\envs\\mv00\\lib\\site-packages (from dm-haiku) (2.1.0)\n",
            "Requirement already satisfied: jmp>=0.0.2 in c:\\users\\alina\\miniconda3\\envs\\mv00\\lib\\site-packages (from dm-haiku) (0.0.4)\n",
            "Requirement already satisfied: numpy>=1.18.0 in c:\\users\\alina\\miniconda3\\envs\\mv00\\lib\\site-packages (from dm-haiku) (1.26.0)\n",
            "Requirement already satisfied: tabulate>=0.8.9 in c:\\users\\alina\\miniconda3\\envs\\mv00\\lib\\site-packages (from dm-haiku) (0.9.0)\n",
            "Requirement already satisfied: flax>=0.7.1 in c:\\users\\alina\\miniconda3\\envs\\mv00\\lib\\site-packages (from dm-haiku) (0.8.2)\n",
            "Requirement already satisfied: jax>=0.4.19 in c:\\users\\alina\\miniconda3\\envs\\mv00\\lib\\site-packages (from flax>=0.7.1->dm-haiku) (0.4.26)\n",
            "Requirement already satisfied: msgpack in c:\\users\\alina\\miniconda3\\envs\\mv00\\lib\\site-packages (from flax>=0.7.1->dm-haiku) (1.0.8)\n",
            "Requirement already satisfied: optax in c:\\users\\alina\\miniconda3\\envs\\mv00\\lib\\site-packages (from flax>=0.7.1->dm-haiku) (0.2.2)\n",
            "Requirement already satisfied: orbax-checkpoint in c:\\users\\alina\\miniconda3\\envs\\mv00\\lib\\site-packages (from flax>=0.7.1->dm-haiku) (0.5.9)\n",
            "Requirement already satisfied: tensorstore in c:\\users\\alina\\miniconda3\\envs\\mv00\\lib\\site-packages (from flax>=0.7.1->dm-haiku) (0.1.56)\n",
            "Requirement already satisfied: rich>=11.1 in c:\\users\\alina\\miniconda3\\envs\\mv00\\lib\\site-packages (from flax>=0.7.1->dm-haiku) (13.7.1)\n",
            "Requirement already satisfied: typing-extensions>=4.2 in c:\\users\\alina\\miniconda3\\envs\\mv00\\lib\\site-packages (from flax>=0.7.1->dm-haiku) (4.7.1)\n",
            "Requirement already satisfied: PyYAML>=5.4.1 in c:\\users\\alina\\miniconda3\\envs\\mv00\\lib\\site-packages (from flax>=0.7.1->dm-haiku) (6.0)\n",
            "Requirement already satisfied: ml-dtypes>=0.2.0 in c:\\users\\alina\\miniconda3\\envs\\mv00\\lib\\site-packages (from jax>=0.4.19->flax>=0.7.1->dm-haiku) (0.4.0)\n",
            "Requirement already satisfied: opt-einsum in c:\\users\\alina\\miniconda3\\envs\\mv00\\lib\\site-packages (from jax>=0.4.19->flax>=0.7.1->dm-haiku) (3.3.0)\n",
            "Requirement already satisfied: scipy>=1.9 in c:\\users\\alina\\miniconda3\\envs\\mv00\\lib\\site-packages (from jax>=0.4.19->flax>=0.7.1->dm-haiku) (1.11.3)\n",
            "Requirement already satisfied: importlib-metadata>=4.6 in c:\\users\\alina\\miniconda3\\envs\\mv00\\lib\\site-packages (from jax>=0.4.19->flax>=0.7.1->dm-haiku) (6.0.0)\n",
            "Requirement already satisfied: markdown-it-py>=2.2.0 in c:\\users\\alina\\miniconda3\\envs\\mv00\\lib\\site-packages (from rich>=11.1->flax>=0.7.1->dm-haiku) (3.0.0)\n",
            "Requirement already satisfied: pygments<3.0.0,>=2.13.0 in c:\\users\\alina\\miniconda3\\envs\\mv00\\lib\\site-packages (from rich>=11.1->flax>=0.7.1->dm-haiku) (2.15.1)\n",
            "Requirement already satisfied: chex>=0.1.86 in c:\\users\\alina\\miniconda3\\envs\\mv00\\lib\\site-packages (from optax->flax>=0.7.1->dm-haiku) (0.1.86)\n",
            "Requirement already satisfied: jaxlib>=0.1.37 in c:\\users\\alina\\miniconda3\\envs\\mv00\\lib\\site-packages (from optax->flax>=0.7.1->dm-haiku) (0.4.26)\n",
            "Requirement already satisfied: etils[epath,epy] in c:\\users\\alina\\miniconda3\\envs\\mv00\\lib\\site-packages (from orbax-checkpoint->flax>=0.7.1->dm-haiku) (1.5.2)\n",
            "Requirement already satisfied: nest_asyncio in c:\\users\\alina\\miniconda3\\envs\\mv00\\lib\\site-packages (from orbax-checkpoint->flax>=0.7.1->dm-haiku) (1.5.6)\n",
            "Requirement already satisfied: protobuf in c:\\users\\alina\\miniconda3\\envs\\mv00\\lib\\site-packages (from orbax-checkpoint->flax>=0.7.1->dm-haiku) (5.26.1)\n",
            "Requirement already satisfied: toolz>=0.9.0 in c:\\users\\alina\\miniconda3\\envs\\mv00\\lib\\site-packages (from chex>=0.1.86->optax->flax>=0.7.1->dm-haiku) (0.12.1)\n",
            "Requirement already satisfied: zipp>=0.5 in c:\\users\\alina\\miniconda3\\envs\\mv00\\lib\\site-packages (from importlib-metadata>=4.6->jax>=0.4.19->flax>=0.7.1->dm-haiku) (3.11.0)\n",
            "Requirement already satisfied: mdurl~=0.1 in c:\\users\\alina\\miniconda3\\envs\\mv00\\lib\\site-packages (from markdown-it-py>=2.2.0->rich>=11.1->flax>=0.7.1->dm-haiku) (0.1.0)\n",
            "Requirement already satisfied: fsspec in c:\\users\\alina\\miniconda3\\envs\\mv00\\lib\\site-packages (from etils[epath,epy]->orbax-checkpoint->flax>=0.7.1->dm-haiku) (2024.3.1)\n",
            "Requirement already satisfied: importlib_resources in c:\\users\\alina\\miniconda3\\envs\\mv00\\lib\\site-packages (from etils[epath,epy]->orbax-checkpoint->flax>=0.7.1->dm-haiku) (5.2.0)\n"
          ]
        }
      ],
      "source": [
        "!pip install dm-haiku\n",
        "import haiku as hk"
      ]
    },
    {
      "cell_type": "code",
      "execution_count": 7,
      "metadata": {
        "id": "dF-6IWP30nip"
      },
      "outputs": [],
      "source": [
        "hidden_dim = 50\n",
        "output_dim_p = 3\n",
        "output_dim_v = 1\n",
        "def create_parameters(rng_key, observation):\n",
        "    # Returns a dictionary with the desired parameters for the network\n",
        "    input_dim = jnp.size(observation)\n",
        "    params = {}\n",
        "    \n",
        "    #first layer\n",
        "    \n",
        "    #w\n",
        "    rng_key, param_key = jax.random.split(rng_key)\n",
        "    params['w'] = jax.random.truncated_normal(\n",
        "        param_key, -1, 1, (input_dim, hidden_dim)\n",
        "    )\n",
        "    \n",
        "    #b\n",
        "    rng_key, param_key = jax.random.split(rng_key)\n",
        "    params['b'] = jax.random.truncated_normal(\n",
        "        param_key, -1, 1, (hidden_dim,)\n",
        "    )\n",
        "\n",
        "    #second layer(hidden)\n",
        "    \n",
        "    #w_p\n",
        "    rng_key, param_key = jax.random.split(rng_key)\n",
        "    params['w_p'] = jax.random.truncated_normal(\n",
        "        param_key, -1, 1, (hidden_dim, output_dim_p)\n",
        "    )\n",
        "    \n",
        "    #b_p\n",
        "    rng_key, param_key = jax.random.split(rng_key)\n",
        "    params['b_p'] = jax.random.truncated_normal(\n",
        "        param_key, -1, 1,(output_dim_p,))\n",
        "    \n",
        "    #w_v\n",
        "    rng_key, param_key = jax.random.split(rng_key)\n",
        "    #output layer\n",
        "    params['w_v'] = jax.random.truncated_normal(\n",
        "        param_key, -1, 1, (hidden_dim, output_dim_v)\n",
        "    )\n",
        "    \n",
        "    #b_v\n",
        "    rng_key, param_key = jax.random.split(rng_key)\n",
        "    #scalar\n",
        "    params['b_v'] = jax.random.truncated_normal(\n",
        "        param_key, -1, 1,(output_dim_v,))\n",
        "\n",
        "    return params"
      ]
    },
    {
      "cell_type": "code",
      "execution_count": 8,
      "metadata": {
        "id": "vRBP0xjtQvTi"
      },
      "outputs": [],
      "source": [
        "def network(params, observation):\n",
        "  # Implement forward pass here\n",
        "  flat_observation = observation.flatten()\n",
        "  h = flat_observation.dot(params['w']) + params['b']\n",
        "  h = jax.nn.relu(h)\n",
        "  assert h.shape == (50,)\n",
        "  p = h.dot(params['w_p'])+ params['b_p']\n",
        "  assert p.shape == (3,)\n",
        "  v = h.dot(params['w_v']) + params['b_v']\n",
        "  #v must be a s calar\n",
        "  v = v[0]\n",
        "  assert jnp.ndim(v) == 0, \"v must be a scalar\"\n",
        "  return v, p"
      ]
    },
    {
      "cell_type": "markdown",
      "metadata": {
        "id": "9ImJUgzFosvD"
      },
      "source": [
        "### Choosing actions\n",
        "\n",
        "A critical component of an actor-critic agent is a (stochastic) policy, mapping `observations` to `actions`.\n",
        "\n",
        "In deep RL, this mapping is conventionally parametrised by a deep neural network."
      ]
    },
    {
      "cell_type": "markdown",
      "metadata": {
        "id": "1MVXNWwlYW24"
      },
      "source": [
        "Here we provide a softmax policy parametrised by the neural network above (i.e., using the `network` function). The function has signature `action = softmax_policy(parameters, key, obs)`, taking the current network parameters `parameters`, a JAX random `key` and the current `observation`.\n",
        "\n",
        "### Softmax definition"
      ]
    },
    {
      "cell_type": "code",
      "execution_count": 9,
      "metadata": {
        "id": "qSOO10b20yD5"
      },
      "outputs": [],
      "source": [
        "#DO NOT MODIFY\n",
        "# Functions to perform random sampling in JAX (e.g. those in `jax.random`) take\n",
        "# a random key as input, and they are deterministic function of such a key. In\n",
        "# general, in a JAX program you need to use the `jax.random.split` function to\n",
        "# generate new random keys before every new sampling. The run loop that runs the\n",
        "# experiment later on will split and provides the keys for the function defined\n",
        "# here.\n",
        "\n",
        "# Note that we 'jit' the function.  This means the function will be compiled,\n",
        "# which will make it run faster. This does also suppress print statements, so if\n",
        "# you are debugging and want to print please comment out the `@jax.jit` line,\n",
        "# but don't forget to put it back before running the experiment below, and\n",
        "# especially before submitting your assignment.\n",
        "\n",
        "@jax.jit\n",
        "def softmax_policy(parameters, key, obs):\n",
        "  \"\"\"Sample action from a softmax policy.\"\"\"\n",
        "  _, p = network(parameters, obs)\n",
        "  return jax.random.categorical(key, p)"
      ]
    },
    {
      "cell_type": "markdown",
      "metadata": {
        "id": "iMYcb7Y9krnT"
      },
      "source": [
        "### Learning values and policies\n",
        "\n",
        "An actor-critic agent requires to update the parameters of the network so as to simultaneously improve the value predictions and the policy.\n",
        "\n",
        "In the next section you will define the gradient updates for each of these two components."
      ]
    },
    {
      "cell_type": "markdown",
      "metadata": {
        "id": "GsIlpmNEk5fv"
      },
      "source": [
        "### Q3 [4 marks]\n",
        "\n",
        "Implement a function to compute a stochastic estimate of the policy gradient from a 1 step transition in the environment.\n",
        "\n",
        "* You will use $R_{t+1} + \\gamma v(S_{t+1})$ as an estimate of $q_{\\pi}(S_t, A_t)$\n",
        "* You will use $v(S_{t})$ as a baseline to reduce the variance of the updates.\n",
        "\n",
        "In the code we actually use names `obs_tm1`, `a_tm1` (where `tm1` stands for '$t$ minus one') for the observation and action at time $t-1$, and `r_t`, `discount_t`, `obs_t` for the reward, discount, and observation at time $t$. So the code is offset a single time step in terms of naming as compared to the typical mathematical formulations.  This is just a naming convention, and should not impact the algorithm.\n",
        "\n",
        "The function below must therefore have signature `grads = policy_gradient(parameters, obs_tm1, a_tm1, r_t, discount_t, obs_t)`.\n",
        "* Where the inputs are:\n",
        "  * `parameters`: the parameters of the network,\n",
        "  * an observation `obs_tm1`\n",
        "  * the action `a_tm1` selected after observing `obs_tm1`,\n",
        "  * the resulting reward `r_t` and discount `discount_t` and observation `obs_t`, as obsesrved after taking action `a_tm1`.\n",
        "\n",
        "This function should return a stochastic estimate of the policy gradient, where `grads` has the same structure as `parameters` and contains an estimate of the gradient of the expected episodic return wrt to each parameter.\n",
        "\n",
        "The policy-gradient estimate should use bootstrapping, using the value estimates that can be gotten using the saame `parameters` as used for the policy.  So the output of this function can be used in a one-step actor-critic update."
      ]
    },
    {
      "cell_type": "markdown",
      "metadata": {
        "id": "02RJAKiX85Wx"
      },
      "source": [
        "### Jax hint:\n",
        "Note that you can use `jax.grad(f)` to get the gradient of any (pure) jax function with a scalar output.  For instance, consider:\n",
        "\n",
        "        def f(w, x, y):\n",
        "          # w, x, and y are all vectors\n",
        "          return jnp.sum(w*x + y)\n",
        "\n",
        "        df = jax.grad(f)\n",
        "    \n",
        "then calling `df(w, x, y)` will give the gradient of the output of `f(w, x, y)` with respect to the first input argument --- here called `w`. You can use this new function `df` as just a normal function. For instance, it can be called from other functions, as usual.\n",
        "\n",
        "Run the cell below to see a concrete example in action.  Note that `df(w, x, y)` in the example below evaluates to the same values as `x`.  This is correct, because the gradient of `f` with respect to `w` is indeed `x`."
      ]
    },
    {
      "cell_type": "code",
      "execution_count": 10,
      "metadata": {
        "id": "t1TjveqqGnNA"
      },
      "outputs": [
        {
          "name": "stdout",
          "output_type": "stream",
          "text": [
            "f(w, x, y):  31.0\n",
            "df(w, x, y): [3. 5.]\n"
          ]
        }
      ],
      "source": [
        "def f(w, x, y):\n",
        "  return jnp.sum(w*x + y)\n",
        "\n",
        "df = jax.grad(f)\n",
        "\n",
        "w = jnp.array([1., 2.])\n",
        "x = jnp.array([3., 5.])\n",
        "y = jnp.array([7., 11.])\n",
        "\n",
        "print(f'f(w, x, y):  {f(w, x, y)}')\n",
        "print(f'df(w, x, y): {df(w, x, y)}')"
      ]
    },
    {
      "cell_type": "markdown",
      "metadata": {
        "id": "wngNEiwrQeF0"
      },
      "source": [
        "### Jax hint:\n",
        "You network will have a dictionary `params` as input.  Suppose you have a function that computes the output of a network, and then uses this to do some stuff, and you want the gradient of that new function.  That is, suppose your code looks something like this:\n",
        "\n",
        "        # Define network\n",
        "        def network(params, ...):\n",
        "          ...\n",
        "\n",
        "        # Define a new function\n",
        "        def function(params, x, y, z, ...):\n",
        "           ...\n",
        "           output = network(params, x)\n",
        "           ...\n",
        "           return ...(some function of output)...        \n",
        "\n",
        "Now,\n",
        "```\n",
        "grads = jax.grad(function)(params, x, y, z, ...)\n",
        "```\n",
        "will give the gradients of `function` with respect to the first input argument, `params`.  These gradients `grads` will have exactly the same shape as the input argment `params`.\n",
        "\n",
        "But note that we cannot do things like `params + grads`, because `params` and `grads` are both dictionaries, not just `jnp.array`s.  Instead, we could explicitly traverse the dictionary.  But it is perhaps even easier to use in-built tree utils in Jax.  Specifically, the util `jax.tree_map(f, x, y)` applies function f to all the elements in `x` and `y`.\n",
        "\n",
        "For instance, to add the gradients to the parameters, we can use:\n",
        "```\n",
        "def add_gradient_to_weight(w, g, learning_rate=0.1):\n",
        "  return w + learning_rate * g\n",
        "new_params = jax.tree_map(add_gradient_to_weight, params, grads)\n",
        "```\n",
        "The above snippet would apply the function `add_gradient_to_weight` to the elements in `params` and `grads`, here adding each element in `grads` to each corresponding element in `weights` (in this case using the default learning rate `learning_rate=0.1`, as specified in the function definition).\n"
      ]
    },
    {
      "cell_type": "code",
      "execution_count": 11,
      "metadata": {
        "id": "AHLGjy8he6vh"
      },
      "outputs": [],
      "source": [
        "# `parameters`: the parameters of the network,\n",
        "# an observation `obs_tm1`\n",
        "# the action `a_tm1` selected after observing `obs_tm1`,\n",
        "# the resulting reward `r_t` and discount `discount_t` and observation `obs_t`, as obsesrved after taking action `a_tm1`.\n",
        "def loss_fun(parameters, obs_tm1, a_tm1, r_t, discount_t, obs_t):\n",
        "  v_tm1, p_tm1 = network(parameters, obs_tm1)\n",
        "  v_t, p_t = network(parameters, obs_t)\n",
        "  \n",
        "  #advantage\n",
        "  #estimate of q_pi(S_t, A_t) = r_t+1+ gamma* v(S_t+1). v(S_t) as a baseline\n",
        "  delta_t = jax.lax.stop_gradient(r_t + discount_t*v_t - v_tm1)\n",
        "  #log_prob_action = jnp.log(p_tm1[a_tm1])\n",
        "  log_prob_action = jax.nn.log_softmax(p_tm1)[a_tm1]\n",
        "  theta = delta_t * log_prob_action\n",
        "  return theta.squeeze()\n",
        "    \n",
        "def policy_gradient(parameters, obs_tm1, a_tm1, r_t, discount_t, obs_t):\n",
        "  grad = jax.grad(loss_fun)\n",
        "  gradients = grad(parameters, obs_tm1, a_tm1, r_t, discount_t, obs_t)\n",
        "\n",
        "  return gradients"
      ]
    },
    {
      "cell_type": "markdown",
      "metadata": {
        "id": "5XgjefrBlIGN"
      },
      "source": [
        "### Q4 [4 marks]\n",
        "\n",
        "Implement a function to compute a TD(0) update for the parameters of the value function.\n",
        "\n",
        "It must have signature `td_update = value_update(parameters, obs_tm1, a_tm1, r_t, discount_t, obs_t)`.\n",
        "* Where the inputs are:\n",
        "  * the current parameters `parameters` of the network,\n",
        "  * an observation `obs_tm1`\n",
        "  * the action `a_tm1` selected after observing `obs_tm1`,\n",
        "  * the resulting reward `r_t` and environment discount `discount_t`\n",
        "  * and the following observation `obs_t`\n",
        "* Returns a stochastic TD(0) semi-gradient update: `td_update` has the same structure as `parameters`. This contains a stochastic estimate of the negative semi-gradient of the expected value prediction loss: a TD(0) update."
      ]
    },
    {
      "cell_type": "code",
      "execution_count": 12,
      "metadata": {
        "id": "CAONu72iTpzx"
      },
      "outputs": [],
      "source": [
        "def value_loss(parameters, obs_tm1, a_tm1, r_t, discount_t, obs_t):\n",
        "    v_tm1, p_tm1 = network(parameters, obs_tm1)\n",
        "    v_t, p_t = network(parameters, obs_t)\n",
        "    \n",
        "    #advantage\n",
        "    #estimate of q_pi(S_t, A_t) = r_t+1+ gamma* v(S_t+1). v(S_t) as a baseline\n",
        "    delta_t = jax.lax.stop_gradient(r_t + discount_t*v_t - v_tm1)\n",
        "    return (delta_t*v_tm1).squeeze()\n",
        "    \n",
        "def value_update(parameters, obs_tm1, a_tm1, r_t, discount_t, obs_t):\n",
        "    grad = jax.grad(value_loss)\n",
        "    gradients = grad(parameters, obs_tm1, a_tm1, r_t, discount_t, obs_t)\n",
        "\n",
        "    return gradients\n",
        "  "
      ]
    },
    {
      "cell_type": "markdown",
      "metadata": {
        "id": "jAXgLZg8mfMd"
      },
      "source": [
        "### Updating shared parameters\n",
        "\n",
        "The policy gradient identifies the direction of change in the parameters that most steeply improve the policy.\n",
        "The value update identifies the direction of change in the parameters that improves the value predictions (according to TD).\n",
        "\n",
        "However, the value and policy share some of the parameters of the network.  How do we combine the two gradient updates?\n",
        "\n",
        "In this assignment, we simply sum the policy and value components.\n",
        "The function that combines the two gradients is implemented for you in the cell below.  Note the use of `jax.tree_map` to facilitate adding the structured parameters."
      ]
    },
    {
      "cell_type": "code",
      "execution_count": 13,
      "metadata": {
        "id": "uhKCLe8jjkdZ"
      },
      "outputs": [],
      "source": [
        "@jax.jit\n",
        "def compute_gradient(parameters, obs_tm1, a_tm1, r_t, discount_t, obs_t):\n",
        "  pgrads = policy_gradient(parameters, obs_tm1, a_tm1, r_t, discount_t, obs_t)\n",
        "  td_update = value_update(parameters, obs_tm1, a_tm1, r_t, discount_t, obs_t)\n",
        "  return jax.tree_map(lambda pg, td: pg + td, pgrads, td_update)"
      ]
    },
    {
      "cell_type": "markdown",
      "metadata": {
        "id": "tYaVb6GcpCRe"
      },
      "source": [
        "### Optimisation\n",
        "\n",
        "In deep learning, gradient updates are typically rescaled and modifed to avoid taking too large a step on a single update (e.g., due to large variance), and to facilitate the optimisation process (it turns out raw stochatic gradients are often not the most effective for updating neural networks).\n",
        "\n",
        "For instance given a candidate gradient update $\\nabla$ we may update our parameters $\\theta$ by;\n",
        "$$\\Delta \\theta = \\theta + \\alpha * \\nabla\\,,$$\n",
        "where $\\alpha$ is a small number between 0 and 1 (e.g., $\\alpha=0.01$ or $\\alpha=0.001$), referred to as `step_size` or `learning_rate`\n",
        "\n",
        "The gradients with respect to each weight of a neural network may however have very different magnitudes. This can make it hard to set a suitable learning rate $\\alpha$.\n",
        "\n",
        "In deep learning, and deep RL, we typically use adaptive learning rates, for instance by rescaling each component of the gradient using statistics tracking the typical size of the updates to that weight. Then the entire update is rescaled using a global `learning_rate` $\\alpha$.\n"
      ]
    },
    {
      "cell_type": "markdown",
      "metadata": {
        "id": "hbFePWfApaMU"
      },
      "source": [
        "### Q5 [2 marks]\n",
        "\n",
        "A popular approach to adaptive gradient rescaling was introduced by the `Adam` algorithm.\n",
        "This algorithm implements the following procedure before applying each update:\n",
        "* Increase an update counter $k \\gets k+1$ (starting at k=0 before any updates),\n",
        "* Update the first moment of each gradient component $\\mu \\gets (1 - \\beta_1) g + \\beta_1 \\mu$ where $g$ is the latest stochastic gradient, where $\\beta_1$ is a parameter for the moving average.\n",
        "* Update the second moment of each gradient component $\\nu_i = (1 - \\beta_2) g_i ^ 2 + \\beta_2 \\nu_i $ where $g$ is the latest gradient update, where $\\beta_2$ is a parameter for the moving average.\n",
        "* Use the following update to update the weights:\n",
        "$$\\Delta w = \\alpha \\frac{\\mu / (1 - \\beta_1 ^ {k})}{\\epsilon + \\sqrt{\\nu / (1 - \\beta_1 ^ {k})}}$$\n",
        "* $\\alpha$ is a global `learning rate`\n",
        "* $\\beta_1$ and $\\beta_2$ define a soft horizon for the per-weight statistics.\n",
        "* $\\epsilon$ makes the rescaling more robust to numerical issues.\n",
        "\n",
        "(See [Kingma et al, 2014](https://arxiv.org/abs/1412.6980) for details, if you are interested.)\n",
        "\n",
        "In the next cell define a pair of functions (`opt_init`, and `opt_update` --- in each case `opt` is short for 'optimiser'), where:\n",
        "\n",
        "The `opt_init` function has signature `opt_state = opt_init(parameters)`.\n",
        "* Takes the network parameters as inputs\n",
        "* Initialises an `optimiser state` holding the per weight statistics.\n",
        "\n",
        "The `opt_update` function has signature `updates, opt_state = opt_update(grads, opt_state)`.\n",
        "* Takes a `gradient` and an `optimisers state`,\n",
        "* and returns the transformed gradient and the updated `optimiser state`.\n",
        "\n",
        "The optimiser state `opt_state` should contain:\n",
        "* The first-order momentum $\\mu$, as updated with a moving-average-parameter $\\beta_1$ which we call `b1` in the code.\n",
        "* The first-order momentum $\\nu$, as updated with a moving-average-parameter $\\beta_2$ which we call `b2` in the code.\n",
        "\n",
        "We will ignore the initial correction Adam typically uses, and will instead use the simpler transformation:\n",
        "$$\\Delta w = \\alpha \\frac{\\mu}{\\epsilon + \\sqrt{\\nu}}$$\n",
        "\n",
        "Set the algorithm's hyper-parameters to $\\alpha=0.003$, $\\beta_1=.9$ and $\\beta_2=.999$, $\\epsilon=10^{-4}$.  You are allowed to hard-code these in, or make them configurable (e.g., pass them as additional arguments to `opt_update`, which is better if you want to play around, of course).  Set the initial moving averages to zero for $\\mu$ and one for $\\nu$.  E.g.,\n",
        "\n",
        "        mu = jax.tree_map(jnp.zeros_like, parameters)"
      ]
    },
    {
      "cell_type": "code",
      "execution_count": 14,
      "metadata": {
        "id": "017XRA_BpbZx"
      },
      "outputs": [],
      "source": [
        "def opt_init(parameters,k=0, b1=0.9, b2=0.999):\n",
        "  mu = jax.tree_map(jnp.zeros_like, parameters)\n",
        "  v = jax.tree_map(jnp.ones_like, parameters)\n",
        "  opt_state = (mu, v, k, b1, b2)\n",
        "  return opt_state\n",
        "\n",
        "def opt_update(grads, opt_state, alpha = 0.003, epsilon = 1e-4 ):\n",
        "  mus, vs, k, b1, b2 = opt_state\n",
        "  k +=1\n",
        "  mus_updated = jax.tree_map(lambda mu, grad: ((1 - b1) * grad) + (b1 * mu), mus, grads)\n",
        "  vs_updated = jax.tree_map(lambda v, grad: ((1 - b2) * (grad**2)) + (b2 * v), vs, grads)\n",
        "  updates = jax.tree_map(lambda v, mu: alpha*(mu/(epsilon+jnp.sqrt(v))), vs_updated, mus_updated)\n",
        "  opt_state = (mus_updated, vs_updated, k, b1, b2)\n",
        "  return updates, opt_state"
      ]
    },
    {
      "cell_type": "markdown",
      "metadata": {
        "id": "DczWvZfNSnTj"
      },
      "source": [
        "### Run experiments\n",
        "\n",
        "Run the cell below to show the performance of the resulting agent.\n",
        "\n",
        "You may also use this section for debugging your implementations.\n",
        "\n",
        "Note however, that most functions are `jitted` for performance,\n",
        "* either using the `@jax.jit` decorator in the function definition\n",
        "* or calling explicitly `fn = jax.jit(fn)`\n",
        "\n",
        "When jitting, the code is compiled on the first time the function is executed\n",
        "* and execution is much faster on subsequent calls.\n",
        "* a notable side effect is that print statements in a jitted function will only execute on the first execution of the function.\n",
        "* to drop into a debugger or print on each function execution you will have to disable the `@jax.jit` annotations and jax.jit calls."
      ]
    },
    {
      "cell_type": "code",
      "execution_count": 15,
      "metadata": {
        "id": "Fz837XTkLxE8"
      },
      "outputs": [
        {
          "name": "stderr",
          "output_type": "stream",
          "text": [
            "C:\\Users\\alina\\AppData\\Local\\Temp\\ipykernel_27252\\140107139.py:2: DeprecationWarning: jax.tree_map is deprecated: use jax.tree.map (jax v0.4.25 or newer) or jax.tree_util.tree_map (any JAX version).\n",
            "  mu = jax.tree_map(jnp.zeros_like, parameters)\n",
            "C:\\Users\\alina\\AppData\\Local\\Temp\\ipykernel_27252\\140107139.py:3: DeprecationWarning: jax.tree_map is deprecated: use jax.tree.map (jax v0.4.25 or newer) or jax.tree_util.tree_map (any JAX version).\n",
            "  v = jax.tree_map(jnp.ones_like, parameters)\n"
          ]
        },
        {
          "name": "stdout",
          "output_type": "stream",
          "text": [
            "Training agent for 2500 episodes...\n"
          ]
        },
        {
          "name": "stderr",
          "output_type": "stream",
          "text": [
            "C:\\Users\\alina\\AppData\\Local\\Temp\\ipykernel_27252\\2734106140.py:5: DeprecationWarning: jax.tree_map is deprecated: use jax.tree.map (jax v0.4.25 or newer) or jax.tree_util.tree_map (any JAX version).\n",
            "  return jax.tree_map(lambda pg, td: pg + td, pgrads, td_update)\n",
            "C:\\Users\\alina\\AppData\\Local\\Temp\\ipykernel_27252\\140107139.py:10: DeprecationWarning: jax.tree_map is deprecated: use jax.tree.map (jax v0.4.25 or newer) or jax.tree_util.tree_map (any JAX version).\n",
            "  mus_updated = jax.tree_map(lambda mu, grad: ((1 - b1) * grad) + (b1 * mu), mus, grads)\n",
            "C:\\Users\\alina\\AppData\\Local\\Temp\\ipykernel_27252\\140107139.py:11: DeprecationWarning: jax.tree_map is deprecated: use jax.tree.map (jax v0.4.25 or newer) or jax.tree_util.tree_map (any JAX version).\n",
            "  vs_updated = jax.tree_map(lambda v, grad: ((1 - b2) * (grad**2)) + (b2 * v), vs, grads)\n",
            "C:\\Users\\alina\\AppData\\Local\\Temp\\ipykernel_27252\\140107139.py:12: DeprecationWarning: jax.tree_map is deprecated: use jax.tree.map (jax v0.4.25 or newer) or jax.tree_util.tree_map (any JAX version).\n",
            "  updates = jax.tree_map(lambda v, mu: alpha*(mu/(epsilon+jnp.sqrt(v))), vs_updated, mus_updated)\n",
            "C:\\Users\\alina\\AppData\\Local\\Temp\\ipykernel_27252\\2161634376.py:21: DeprecationWarning: jax.tree_map is deprecated: use jax.tree.map (jax v0.4.25 or newer) or jax.tree_util.tree_map (any JAX version).\n",
            "  return jax.tree_map(lambda p, u: p + u, params, updates)\n"
          ]
        },
        {
          "data": {
            "image/png": "[encoded data removed]",
            "text/plain": [
              "<Figure size 700x500 with 1 Axes>"
            ]
          },
          "metadata": {},
          "output_type": "display_data"
        }
      ],
      "source": [
        "# DO NOT CHANGE THIS CELL\n",
        "\n",
        "# Experiment configs.\n",
        "train_episodes = 2500\n",
        "discount_factor = .99\n",
        "\n",
        "# Create environment.                                                                   \n",
        "env = catch.Catch(seed=42)\n",
        "\n",
        "# Build and initialize network.\n",
        "rng = jax.random.PRNGKey(44)\n",
        "rng, init_rng = jax.random.split(rng)\n",
        "sample_input = env.observation_spec().generate_value()\n",
        "parameters = create_parameters(init_rng, sample_input)\n",
        "\n",
        "# Initialize optimizer state.\n",
        "opt_state = opt_init(parameters)\n",
        "\n",
        "# Apply updates\n",
        "def apply_updates(params, updates):\n",
        "  return jax.tree_map(lambda p, u: p + u, params, updates)\n",
        "\n",
        "# Jit.\n",
        "opt_update = jax.jit(opt_update)\n",
        "apply_updates = jax.jit(apply_updates)\n",
        "\n",
        "print(f\"Training agent for {train_episodes} episodes...\")\n",
        "all_episode_returns = []\n",
        "\n",
        "for _ in range(train_episodes):\n",
        "  episode_return = 0.\n",
        "  timestep = env.reset()\n",
        "  obs_tm1 = timestep.observation\n",
        "\n",
        "  # Sample initial action.\n",
        "  rng, policy_rng = jax.random.split(rng)\n",
        "  a_tm1 = softmax_policy(parameters, policy_rng, obs_tm1)\n",
        "\n",
        "  while not timestep.last():\n",
        "    # Step environment.\n",
        "    new_timestep = env.step(int(a_tm1))\n",
        "\n",
        "    # Sample action from agent policy.\n",
        "    rng, policy_rng = jax.random.split(rng)\n",
        "    a_t = softmax_policy(parameters, policy_rng, new_timestep.observation)\n",
        "\n",
        "    # Update params.\n",
        "    r_t = new_timestep.reward\n",
        "    discount_t = discount_factor * new_timestep.discount\n",
        "    dJ_dtheta = compute_gradient(\n",
        "        parameters, obs_tm1, a_tm1, r_t, discount_t,\n",
        "        new_timestep.observation)\n",
        "    updates, opt_state = opt_update(dJ_dtheta, opt_state)\n",
        "    parameters = apply_updates(parameters, updates)\n",
        "\n",
        "    # Within episode book-keeping.\n",
        "    episode_return += new_timestep.reward\n",
        "    timestep = new_timestep\n",
        "    obs_tm1 = new_timestep.observation\n",
        "    a_tm1 = a_t\n",
        "\n",
        "  # Experiment results tracking.\n",
        "  all_episode_returns.append(episode_return)\n",
        "\n",
        "# Plot learning curve.\n",
        "plot_learning_curve(all_episode_returns)"
      ]
    },
    {
      "cell_type": "markdown",
      "metadata": {
        "id": "9dowFJ_l-32A"
      },
      "source": [
        "# B) An alternative update\n",
        "\n",
        "You are going to implement a different kind of agent.\n",
        "\n",
        "Like an actor-critic, it learns online from a single stream of experience, updating the parametes after each transition in the environment."
      ]
    },
    {
      "cell_type": "markdown",
      "metadata": {
        "id": "aQD0Qw8-_QJy"
      },
      "source": [
        "### Neural networks\n",
        "\n",
        "\n",
        "The agent will reuse the same neural network we defined for the actor-critic:\n",
        "* the scalar output will be trained via TD to estimate state values\n",
        "* the vector preferences `p` will be updated according to a different rule."
      ]
    },
    {
      "cell_type": "markdown",
      "metadata": {
        "id": "I6j0AIF8GhdR"
      },
      "source": [
        "### Choosing actions\n",
        "\n",
        "As in actor-critics, the (stochastic) mapping from `observations` to `actions` depends on the vector of preferences `p` from the network."
      ]
    },
    {
      "cell_type": "markdown",
      "metadata": {
        "id": "jE00LhDL_nbC"
      },
      "source": [
        "### Q6 [2 marks]\n",
        "\n",
        "The new agent's policy will have the signature `action = epsilon_greedy_policy(parameters, key, observation)`,\n",
        "* Take as inputs the current network parameters `parameters`, a JAX random `key` and the current `observation`\n",
        "* Return with probability `0.9` the greedy `action` with respect to the preferences `p`, ties must be broken at random.\n",
        "* Return an action uniformly at random with probability `0.1`"
      ]
    },
    {
      "cell_type": "code",
      "execution_count": 16,
      "metadata": {
        "id": "8IwTDROL_Lx5"
      },
      "outputs": [],
      "source": [
        "@jax.jit\n",
        "def epsilon_greedy_policy(parameters, key, observation):\n",
        "  \"\"\"Sample action from an epsilon-greedy policy.\"\"\"\n",
        "  epsilon = 0.9\n",
        "  rng_key, param_key = jax.random.split(key)\n",
        "  \n",
        "  # def get_max_indices(p, num_indices):\n",
        "  #   max_value = jnp.max(p)\n",
        "  #   max_mask = jnp.equal(p, max_value)\n",
        "  #   max_indices = jnp.where(max_mask)[0]\n",
        "  #   #this code is very specific to this particular case where valid indices are 0,1,&2, 3 will have to be replaces with different number of actions\n",
        "  #   padded_indices = jnp.pad(max_indices, (0, num_indices - len(max_indices)), constant_values=3)\n",
        "  #   return padded_indices\n",
        "\n",
        "  def greedy(keys):\n",
        "    rng_key, param_key = jax.random.split(keys)\n",
        "    v, p = network(parameters, observation)\n",
        "    #add random noise to max values of p to break the ties randomly\n",
        "    noise = jax.random.uniform(rng_key, p.shape, minval=0, maxval=1e-5)\n",
        "    action = jnp.argmax(p + noise)\n",
        "\n",
        "    #max_actions_inds = get_max_indices(p, 3)\n",
        "    \n",
        "    # Check if max_actions_inds contains 3\n",
        "    #contains_sentinel = jnp.any(max_actions_inds == 3)\n",
        "    \n",
        "    # If max_actions_inds contains 3, assign 0 probability to these indices and equal probability to others\n",
        "    # if contains_sentinel:\n",
        "    #     mask = jnp.not_equal(max_actions_inds, 3)\n",
        "    #     equal_probs = jnp.ones(jnp.size(max_actions_inds))/ jnp.size(max_actions_inds)\n",
        "    #     probs = jnp.where(mask, equal_probs, 0)\n",
        "    # else:\n",
        "    #     # If max_actions_inds doesn't contain 3, assign equal probabilities to all indices\n",
        "    #     probs = jnp.ones(jnp.size(max_actions_inds)) / jnp.size(max_actions_inds)\n",
        "\n",
        "    # break a tie\n",
        "    #action = jax.random.choice(key=param_key, a =max_actions_inds, p=probs)\n",
        "\n",
        "    return action\n",
        "\n",
        "  def random(keys):\n",
        "    rng_key, param_key = jax.random.split(keys)\n",
        "    action = jax.random.choice(key=param_key, a = output_dim_p)\n",
        "    return action\n",
        "\n",
        "  action = jax.lax.cond(jax.random.uniform(param_key) < epsilon, greedy, random, rng_key)\n",
        "    \n",
        "  return action"
      ]
    },
    {
      "cell_type": "markdown",
      "metadata": {
        "id": "l1zQiRX5BfeA"
      },
      "source": [
        "### Q7 [3 marks]\n",
        "\n",
        "The parameters $w_p$ of the preferences $p_{w_p}(s, a)$ will be update according to the following gradient-based update:\n",
        "\n",
        "$$\\Delta w_p = \\alpha (R_{t+1} + \\gamma v(S_{t+1}) - p(S_{t}, A_t)) \\nabla p(S_t, A_t))$$\n",
        "\n",
        "where `v` is the state value trained by TD as in the actor critic.\n",
        "\n",
        "You musy implement this in the function `preference_gradient`, with the same signature as `policy_gradient`"
      ]
    },
    {
      "cell_type": "code",
      "execution_count": 17,
      "metadata": {
        "id": "6fQhAWXqLNt-"
      },
      "outputs": [],
      "source": [
        "def grad_loss(parameters, obs_tm1, a_tm1, r_t, discount_t, obs_t):\n",
        "    v_tm1, p_tm1 = network(parameters, obs_tm1)\n",
        "    v_t, p_t = network(parameters, obs_t)\n",
        "    delta = jax.lax.stop_gradient(r_t + discount_t * v_t - p_tm1[a_tm1])\n",
        "    updates = delta*p_tm1[a_tm1]\n",
        "    return updates\n",
        "\n",
        "def preference_gradient(parameters, obs_tm1, a_tm1, r_t, discount_t, obs_t):\n",
        "    grad = jax.grad(grad_loss)\n",
        "    gradients = grad(parameters, obs_tm1, a_tm1, r_t, discount_t, obs_t)\n",
        "\n",
        "    return gradients"
      ]
    },
    {
      "cell_type": "markdown",
      "metadata": {
        "id": "hz4RFKnVF8E8"
      },
      "source": [
        "### Updating shared parameters\n",
        "\n",
        "Just like in the actor critic the overall update to the parameters is a combination of two quantities:\n",
        "* the new update we defined for the vector of preferences\n",
        "* the same TD update to the scalar output that we used in the actor critic"
      ]
    },
    {
      "cell_type": "code",
      "execution_count": 18,
      "metadata": {
        "id": "QnghCzKhF-gI"
      },
      "outputs": [],
      "source": [
        "@jax.jit\n",
        "def compute_gradient(parameters, obs_tm1, a_tm1, r_t, discount_t, obs_t):\n",
        "  pgrads = preference_gradient(parameters, obs_tm1, a_tm1, r_t, discount_t, obs_t)\n",
        "  vgrads = value_update(parameters, obs_tm1, a_tm1, r_t, discount_t, obs_t)\n",
        "  return jax.tree_map(lambda pg, td: pg + td, pgrads, vgrads)"
      ]
    },
    {
      "cell_type": "markdown",
      "metadata": {
        "id": "44QBKEF4HFK8"
      },
      "source": [
        "### Optimisation\n",
        "\n",
        "The gradient updates are rescaled using the same optimiser used for the actor-critic."
      ]
    },
    {
      "cell_type": "markdown",
      "metadata": {
        "id": "dbdHQo23FJit"
      },
      "source": [
        "### Run experiments\n",
        "\n",
        "Run the cell below to show the performance of the new agent."
      ]
    },
    {
      "cell_type": "code",
      "execution_count": 19,
      "metadata": {
        "id": "ept5NG1oFLnu"
      },
      "outputs": [
        {
          "name": "stderr",
          "output_type": "stream",
          "text": [
            "C:\\Users\\alina\\AppData\\Local\\Temp\\ipykernel_27252\\140107139.py:2: DeprecationWarning: jax.tree_map is deprecated: use jax.tree.map (jax v0.4.25 or newer) or jax.tree_util.tree_map (any JAX version).\n",
            "  mu = jax.tree_map(jnp.zeros_like, parameters)\n",
            "C:\\Users\\alina\\AppData\\Local\\Temp\\ipykernel_27252\\140107139.py:3: DeprecationWarning: jax.tree_map is deprecated: use jax.tree.map (jax v0.4.25 or newer) or jax.tree_util.tree_map (any JAX version).\n",
            "  v = jax.tree_map(jnp.ones_like, parameters)\n"
          ]
        },
        {
          "name": "stdout",
          "output_type": "stream",
          "text": [
            "Training agent for 2500 episodes...\n"
          ]
        },
        {
          "name": "stderr",
          "output_type": "stream",
          "text": [
            "C:\\Users\\alina\\AppData\\Local\\Temp\\ipykernel_27252\\2854361996.py:5: DeprecationWarning: jax.tree_map is deprecated: use jax.tree.map (jax v0.4.25 or newer) or jax.tree_util.tree_map (any JAX version).\n",
            "  return jax.tree_map(lambda pg, td: pg + td, pgrads, vgrads)\n",
            "C:\\Users\\alina\\AppData\\Local\\Temp\\ipykernel_27252\\1434496577.py:21: DeprecationWarning: jax.tree_map is deprecated: use jax.tree.map (jax v0.4.25 or newer) or jax.tree_util.tree_map (any JAX version).\n",
            "  return jax.tree_map(lambda p, u: p + u, params, updates)\n"
          ]
        },
        {
          "data": {
            "image/png": "[encoded data removed]",
            "text/plain": [
              "<Figure size 700x500 with 1 Axes>"
            ]
          },
          "metadata": {},
          "output_type": "display_data"
        }
      ],
      "source": [
        "# DO NOT CHANGE THIS CELL\n",
        "\n",
        "# Experiment configs.\n",
        "train_episodes = 2500\n",
        "discount_factor = .99\n",
        "\n",
        "# Create environment.\n",
        "env = catch.Catch(seed=42)\n",
        "\n",
        "# Build and initialize network.\n",
        "rng = jax.random.PRNGKey(44)\n",
        "rng, init_rng = jax.random.split(rng)\n",
        "sample_input = env.observation_spec().generate_value()\n",
        "parameters = create_parameters(init_rng, sample_input)\n",
        "\n",
        "# Initialize optimizer state.\n",
        "opt_state = opt_init(parameters)\n",
        "\n",
        "# Apply updates\n",
        "def apply_updates(params, updates):\n",
        "  return jax.tree_map(lambda p, u: p + u, params, updates)\n",
        "\n",
        "# Jit.\n",
        "opt_update = jax.jit(opt_update)\n",
        "apply_updates = jax.jit(apply_updates)\n",
        "\n",
        "print(f\"Training agent for {train_episodes} episodes...\")\n",
        "all_episode_returns = []\n",
        "\n",
        "for _ in range(train_episodes):\n",
        "  episode_return = 0.\n",
        "  timestep = env.reset()\n",
        "  obs_tm1 = timestep.observation\n",
        "\n",
        "  # Sample initial action.\n",
        "  rng, policy_rng = jax.random.split(rng)\n",
        "  a_tm1 = epsilon_greedy_policy(parameters, policy_rng, obs_tm1)\n",
        "\n",
        "  while not timestep.last():\n",
        "    # Step environment.\n",
        "    new_timestep = env.step(int(a_tm1))\n",
        "\n",
        "    # Sample action from agent policy.\n",
        "    rng, policy_rng = jax.random.split(rng)\n",
        "    a_t = epsilon_greedy_policy(parameters, policy_rng, new_timestep.observation)\n",
        "\n",
        "    # Update params.\n",
        "    r_t = new_timestep.reward\n",
        "    discount_t = discount_factor * new_timestep.discount\n",
        "\n",
        "    dJ_dtheta = compute_gradient(\n",
        "        parameters, obs_tm1, a_tm1, r_t, discount_t,\n",
        "        new_timestep.observation)\n",
        "    updates, opt_state = opt_update(dJ_dtheta, opt_state)\n",
        "    parameters = apply_updates(parameters, updates)\n",
        "\n",
        "    # Within episode book-keeping.\n",
        "    episode_return += new_timestep.reward\n",
        "    timestep = new_timestep\n",
        "    obs_tm1 = new_timestep.observation\n",
        "    a_tm1 = a_t\n",
        "\n",
        "  # Experiment results tracking.\n",
        "  all_episode_returns.append(episode_return)\n",
        "\n",
        "# Plot learning curve.\n",
        "plot_learning_curve(all_episode_returns)"
      ]
    },
    {
      "cell_type": "markdown",
      "metadata": {
        "id": "g80tBzfsBgya"
      },
      "source": [
        "### Q8 [6 marks]\n",
        "\n",
        "[2pts]: What is the best asymptotic average return that can be achieved by the actor-critic agent described in `Part 2A)`? Can this be further improved, and if so: how? Explain your answer.\n",
        "\n",
        "> *answer here*\n",
        "\n",
        "[2pts] What is the best asymptotic average return that can be achieved by the second agent described in `Part 2B)`? Can this be further improved, and if so: how? Explain your answer.\n",
        "\n",
        "> *answer here*\n",
        "\n",
        "[2pts] What quantity do the preferences `p` estimate in the second agent described in Part B?\n",
        "\n",
        "> *answer here*"
      ]
    },
    {
      "cell_type": "code",
      "execution_count": null,
      "metadata": {
        "id": "0BJrDzXJxTl7"
      },
      "outputs": [],
      "source": []
    }
  ],
  "metadata": {
    "colab": {
      "name": "UCL RL CW 2024, part III",
      "private_outputs": true,
      "provenance": [],
      "toc_visible": true
    },
    "kernelspec": {
      "display_name": "Python 3",
      "name": "python3"
    },
    "language_info": {
      "codemirror_mode": {
        "name": "ipython",
        "version": 3
      },
      "file_extension": ".py",
      "mimetype": "text/x-python",
      "name": "python",
      "nbconvert_exporter": "python",
      "pygments_lexer": "ipython3",
      "version": "3.9.18"
    }
  },
  "nbformat": 4,
  "nbformat_minor": 0
}
